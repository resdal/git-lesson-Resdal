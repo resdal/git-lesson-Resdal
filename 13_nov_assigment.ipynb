{
  "nbformat": 4,
  "nbformat_minor": 0,
  "metadata": {
    "colab": {
      "name": "13 nov assigment.ipynb",
      "provenance": [],
      "collapsed_sections": [],
      "authorship_tag": "ABX9TyME1koh6OR2oHnJApAjf1T7",
      "include_colab_link": true
    },
    "kernelspec": {
      "name": "python3",
      "display_name": "Python 3"
    },
    "language_info": {
      "name": "python"
    }
  },
  "cells": [
    {
      "cell_type": "markdown",
      "metadata": {
        "id": "view-in-github",
        "colab_type": "text"
      },
      "source": [
        "<a href=\"https://colab.research.google.com/github/resdal/git-lesson-Resdal/blob/main/13_nov_assigment.ipynb\" target=\"_parent\"><img src=\"https://colab.research.google.com/assets/colab-badge.svg\" alt=\"Open In Colab\"/></a>"
      ]
    },
    {
      "cell_type": "code",
      "metadata": {
        "colab": {
          "base_uri": "https://localhost:8080/"
        },
        "id": "WMI2XvfiSgf2",
        "outputId": "479345b5-8cac-4851-dfdc-7f732c78e4d4"
      },
      "source": [
        "\n",
        "age = input(\"Are you a cigarette addict older than 75 years old?(Yes/No):\").title().strip()\n",
        "chronic = input(\"Do you have a severe chronic disease?(Yes/No) :\").title().strip()\n",
        "immune = input(\"Is your immune system too weak?(Yes/No) : \").title().strip()\n",
        "answers = {True :\"Yes\", False : \"No\"}\n",
        "risk = (age and chronic and immune)\n",
        "if risk:\n",
        "  print(\"You are in risky group.\")\n",
        "else:\n",
        "  print(\"You are not in risky group.\")\n",
        "\n",
        " "
      ],
      "execution_count": 4,
      "outputs": [
        {
          "output_type": "stream",
          "name": "stdout",
          "text": [
            "Are you a cigarette addict older than 75 years old?(Yes/No):no\n",
            "Do you have a severe chronic disease?(Yes/No) :No\n",
            "Is your immune system too weak?(Yes/No) : Yes\n",
            "You are in risky group.\n"
          ]
        }
      ]
    }
  ]
}